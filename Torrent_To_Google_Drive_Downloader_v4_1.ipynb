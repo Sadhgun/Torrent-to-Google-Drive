{
  "cells": [
    {
      "cell_type": "markdown",
      "metadata": {
        "id": "view-in-github",
        "colab_type": "text"
      },
      "source": [
        "<a href=\"https://colab.research.google.com/github/Sadhgun/Torrent-to-Google-Drive/blob/main/Torrent_To_Google_Drive_Downloader_v4_1.ipynb\" target=\"_parent\"><img src=\"https://colab.research.google.com/assets/colab-badge.svg\" alt=\"Open In Colab\"/></a>"
      ]
    },
    {
      "cell_type": "markdown",
      "metadata": {
        "id": "NOSmc6mrAd1g"
      },
      "source": [
        "# Torrent To Google Drive Downloader v4.1"
      ]
    },
    {
      "cell_type": "markdown",
      "metadata": {
        "id": "ewh1Vp0xAm5d"
      },
      "source": [
        "### Mount Google Drive\n",
        "To stream files we need to mount Google Drive."
      ]
    },
    {
      "cell_type": "code",
      "execution_count": 1,
      "metadata": {
        "colab": {
          "base_uri": "https://localhost:8080/"
        },
        "id": "YStpkQzkAul_",
        "outputId": "70ccee95-d955-498d-fa74-1a26ee0afae5"
      },
      "outputs": [
        {
          "output_type": "stream",
          "name": "stdout",
          "text": [
            "Mounted at /content/drive\n",
            "'Android - Applications'\n",
            "'Android - Firmware'\n",
            "'Android - Games'\n",
            " Anime\n",
            " Books\n",
            "'Console - Games'\n",
            "'Console - Other'\n",
            " Emulators\n",
            "'iOS - Applications'\n",
            " Medicine\n",
            " Movies\n",
            "'Music '\n",
            " MyNintendo\n",
            "'PC - Games'\n",
            "'PC - Operating Systems'\n",
            "'PC - Software'\n",
            " Podcasts\n",
            "'Spider-Man No Way Home.2022.1080p.Bluray.DTS-HD.MA.5.1 (1).X264-EVO.mkv'\n",
            "'Spider-Man No Way Home.2022.1080p.Bluray.DTS-HD.MA.5.1.X264-EVO.mkv'\n",
            " Ted.Lasso.S01E01.1080p.ATVP.WEB-DL.DDP5.1.H.264-NTb.mkv\n",
            " Ted.Lasso.S01E02.1080p.ATVP.WEB-DL.DDP5.1.H.264-NTb.mkv\n",
            "'The.Book.Of.Boba.Fett.S01E06.1080p.[Freedrivemovie.com].Hindi.English.Esubs.mkv'\n",
            "'The.Book.of.Boba.Fett.S01E06.720p.[Freedrivemovie.com].WEB-DL.AAC2.0.H264.mkv'\n",
            "'TV Shows'\n"
          ]
        }
      ],
      "source": [
        "from google.colab import drive\n",
        "drive.mount('/content/drive')\n",
        "!ls '/content/drive/Shareddrives/Giant Panda'"
      ]
    },
    {
      "cell_type": "code",
      "execution_count": null,
      "metadata": {
        "id": "p0XDC70qfIch"
      },
      "outputs": [],
      "source": [
        "from google.colab import drive\n",
        "drive.mount('/content/drive', force_remount=True)\n",
        "!rsync -avc /content/drive/Shareddrives/Drive/TV-Shows/  /content/drive/Shareddrives/Tipsy-Tavern-Community-Room/Video/TV-Shows"
      ]
    },
    {
      "cell_type": "markdown",
      "metadata": {
        "id": "Q2iDKOCFAwnu"
      },
      "source": [
        "###Dependency\n",
        "https://www.libtorrent.org/"
      ]
    },
    {
      "cell_type": "code",
      "execution_count": 2,
      "metadata": {
        "colab": {
          "base_uri": "https://localhost:8080/"
        },
        "id": "sp85h9LiA0hX",
        "outputId": "63bfb541-697a-4443-d0f9-4d9627e9440e"
      },
      "outputs": [
        {
          "output_type": "stream",
          "name": "stdout",
          "text": [
            "Looking in indexes: https://pypi.org/simple, https://us-python.pkg.dev/colab-wheels/public/simple/\n",
            "Requirement already satisfied: pip in /usr/local/lib/python3.8/dist-packages (21.1.3)\n",
            "Collecting pip\n",
            "  Downloading pip-22.3.1-py3-none-any.whl (2.1 MB)\n",
            "\u001b[K     |████████████████████████████████| 2.1 MB 25.5 MB/s \n",
            "\u001b[?25hRequirement already satisfied: setuptools in /usr/local/lib/python3.8/dist-packages (57.4.0)\n",
            "Collecting setuptools\n",
            "  Downloading setuptools-65.6.3-py3-none-any.whl (1.2 MB)\n",
            "\u001b[K     |████████████████████████████████| 1.2 MB 61.1 MB/s \n",
            "\u001b[?25hRequirement already satisfied: wheel in /usr/local/lib/python3.8/dist-packages (0.38.4)\n",
            "Installing collected packages: setuptools, pip\n",
            "  Attempting uninstall: setuptools\n",
            "    Found existing installation: setuptools 57.4.0\n",
            "    Uninstalling setuptools-57.4.0:\n",
            "      Successfully uninstalled setuptools-57.4.0\n",
            "  Attempting uninstall: pip\n",
            "    Found existing installation: pip 21.1.3\n",
            "    Uninstalling pip-21.1.3:\n",
            "      Successfully uninstalled pip-21.1.3\n",
            "\u001b[31mERROR: pip's dependency resolver does not currently take into account all the packages that are installed. This behaviour is the source of the following dependency conflicts.\n",
            "ipython 7.9.0 requires jedi>=0.10, which is not installed.\u001b[0m\n",
            "Successfully installed pip-22.3.1 setuptools-65.6.3\n",
            "Looking in indexes: https://pypi.org/simple, https://us-python.pkg.dev/colab-wheels/public/simple/\n",
            "Collecting lbry-libtorrent\n",
            "  Downloading lbry_libtorrent-1.2.4-py3-none-any.whl (2.4 MB)\n",
            "\u001b[2K     \u001b[90m━━━━━━━━━━━━━━━━━━━━━━━━━━━━━━━━━━━━━━━━\u001b[0m \u001b[32m2.4/2.4 MB\u001b[0m \u001b[31m65.4 MB/s\u001b[0m eta \u001b[36m0:00:00\u001b[0m\n",
            "\u001b[?25hInstalling collected packages: lbry-libtorrent\n",
            "Successfully installed lbry-libtorrent-1.2.4\n",
            "\u001b[33mWARNING: Running pip as the 'root' user can result in broken permissions and conflicting behaviour with the system package manager. It is recommended to use a virtual environment instead: https://pip.pypa.io/warnings/venv\u001b[0m\u001b[33m\n",
            "Reading package lists... Done\n",
            "Building dependency tree       \n",
            "Reading state information... Done\n",
            "The following package was automatically installed and is no longer required:\n",
            "  libnvidia-common-460\n",
            "Use 'apt autoremove' to remove it.\n",
            "The following additional packages will be installed:\n",
            "  libtorrent-rasterbar9\n",
            "Suggested packages:\n",
            "  libtorrent-rasterbar-dbg\n",
            "The following NEW packages will be installed:\n",
            "  libtorrent-rasterbar9 python3-libtorrent\n",
            "0 upgraded, 2 newly installed, 0 to remove and 20 not upgraded.\n",
            "Need to get 1,569 kB of archives.\n",
            "After this operation, 5,718 kB of additional disk space will be used.\n",
            "Get:1 http://archive.ubuntu.com/ubuntu bionic/universe amd64 libtorrent-rasterbar9 amd64 1.1.5-1build1 [1,258 kB]\n",
            "Get:2 http://archive.ubuntu.com/ubuntu bionic/universe amd64 python3-libtorrent amd64 1.1.5-1build1 [310 kB]\n",
            "Fetched 1,569 kB in 3s (625 kB/s)\n",
            "Selecting previously unselected package libtorrent-rasterbar9.\n",
            "(Reading database ... 124016 files and directories currently installed.)\n",
            "Preparing to unpack .../libtorrent-rasterbar9_1.1.5-1build1_amd64.deb ...\n",
            "Unpacking libtorrent-rasterbar9 (1.1.5-1build1) ...\n",
            "Selecting previously unselected package python3-libtorrent.\n",
            "Preparing to unpack .../python3-libtorrent_1.1.5-1build1_amd64.deb ...\n",
            "Unpacking python3-libtorrent (1.1.5-1build1) ...\n",
            "Setting up libtorrent-rasterbar9 (1.1.5-1build1) ...\n",
            "Setting up python3-libtorrent (1.1.5-1build1) ...\n",
            "Processing triggers for libc-bin (2.27-3ubuntu1.6) ...\n"
          ]
        }
      ],
      "source": [
        "!python -m pip install --upgrade pip setuptools wheel && python -m pip install lbry-libtorrent && apt install python3-libtorrent"
      ]
    },
    {
      "cell_type": "markdown",
      "metadata": {
        "id": "eP5rYvgCA1z4"
      },
      "source": [
        "### Code to download torrent"
      ]
    },
    {
      "cell_type": "code",
      "execution_count": null,
      "metadata": {
        "colab": {
          "base_uri": "https://localhost:8080/"
        },
        "id": "9rzfSY67A3TP",
        "outputId": "cd13d404-aeb5-46f5-d337-90db8a563ef9"
      },
      "outputs": [
        {
          "output_type": "stream",
          "name": "stdout",
          "text": [
            "2022-12-22 17:28:13.830670\n",
            "Downloading Metadata...\n",
            "Got Metadata, Starting Torrent Download...\n",
            "Starting Khakee.The.Bihar.Chapter.S01.Hindi.1080p.DS4K.10bit.DD.5.1.HEVC-[Musafirboy]\n",
            "0.00% complete (down: 10.4 kb/s up: 1.0 kB/s peers: 4) downloading \n",
            "0.04% complete (down: 420.2 kb/s up: 14.7 kB/s peers: 13) downloading \n",
            "0.20% complete (down: 1024.7 kb/s up: 30.7 kB/s peers: 18) downloading \n",
            "0.20% complete (down: 349.5 kb/s up: 11.3 kB/s peers: 23) downloading \n",
            "0.22% complete (down: 271.3 kb/s up: 12.3 kB/s peers: 36) downloading \n",
            "0.27% complete (down: 455.2 kb/s up: 50.4 kB/s peers: 43) downloading \n",
            "0.32% complete (down: 498.8 kb/s up: 49.0 kB/s peers: 41) downloading \n",
            "0.39% complete (down: 636.5 kb/s up: 46.2 kB/s peers: 36) downloading \n",
            "0.44% complete (down: 621.6 kb/s up: 40.3 kB/s peers: 35) downloading \n",
            "0.68% complete (down: 2062.5 kb/s up: 85.7 kB/s peers: 29) downloading \n",
            "0.88% complete (down: 2037.5 kb/s up: 85.9 kB/s peers: 28) downloading \n",
            "1.14% complete (down: 2587.0 kb/s up: 96.8 kB/s peers: 28) downloading \n",
            "1.31% complete (down: 2059.7 kb/s up: 81.4 kB/s peers: 18) downloading \n",
            "1.49% complete (down: 1881.3 kb/s up: 81.9 kB/s peers: 17) downloading \n",
            "1.70% complete (down: 2160.9 kb/s up: 98.7 kB/s peers: 17) downloading \n",
            "1.87% complete (down: 1890.7 kb/s up: 81.3 kB/s peers: 18) downloading \n",
            "1.95% complete (down: 1198.3 kb/s up: 87.1 kB/s peers: 32) downloading \n",
            "2.08% complete (down: 1358.7 kb/s up: 103.2 kB/s peers: 37) downloading \n",
            "2.21% complete (down: 1333.2 kb/s up: 99.3 kB/s peers: 55) downloading \n",
            "2.47% complete (down: 2318.2 kb/s up: 120.7 kB/s peers: 88) downloading \n",
            "2.76% complete (down: 2829.6 kb/s up: 119.8 kB/s peers: 89) downloading \n",
            "3.15% complete (down: 3721.3 kb/s up: 139.7 kB/s peers: 87) downloading \n",
            "3.49% complete (down: 3577.5 kb/s up: 129.1 kB/s peers: 82) downloading \n",
            "3.87% complete (down: 3804.0 kb/s up: 140.3 kB/s peers: 52) downloading \n",
            "4.26% complete (down: 4012.4 kb/s up: 146.9 kB/s peers: 48) downloading \n",
            "4.59% complete (down: 3740.6 kb/s up: 137.3 kB/s peers: 58) downloading \n",
            "4.93% complete (down: 3569.7 kb/s up: 136.8 kB/s peers: 60) downloading \n",
            "5.19% complete (down: 3043.0 kb/s up: 116.1 kB/s peers: 58) downloading \n",
            "5.58% complete (down: 3763.8 kb/s up: 141.1 kB/s peers: 64) downloading \n",
            "5.90% complete (down: 3574.0 kb/s up: 137.4 kB/s peers: 83) downloading \n",
            "6.21% complete (down: 3407.6 kb/s up: 136.5 kB/s peers: 89) downloading \n",
            "6.55% complete (down: 3590.7 kb/s up: 138.5 kB/s peers: 84) downloading \n",
            "6.84% complete (down: 3321.1 kb/s up: 125.9 kB/s peers: 95) downloading \n",
            "7.14% complete (down: 3254.5 kb/s up: 125.6 kB/s peers: 85) downloading \n",
            "7.42% complete (down: 3148.6 kb/s up: 122.0 kB/s peers: 104) downloading \n",
            "7.76% complete (down: 3518.0 kb/s up: 131.4 kB/s peers: 111) downloading \n",
            "8.10% complete (down: 3555.4 kb/s up: 130.8 kB/s peers: 114) downloading \n",
            "8.42% complete (down: 3435.9 kb/s up: 133.8 kB/s peers: 93) downloading \n",
            "8.73% complete (down: 3362.9 kb/s up: 129.9 kB/s peers: 65) downloading \n",
            "9.04% complete (down: 3343.7 kb/s up: 126.9 kB/s peers: 61) downloading \n",
            "9.35% complete (down: 3399.2 kb/s up: 130.3 kB/s peers: 65) downloading \n",
            "9.67% complete (down: 3402.7 kb/s up: 130.7 kB/s peers: 68) downloading \n",
            "9.99% complete (down: 3474.3 kb/s up: 130.3 kB/s peers: 89) downloading \n",
            "10.34% complete (down: 3652.4 kb/s up: 134.6 kB/s peers: 96) downloading \n",
            "10.70% complete (down: 3781.0 kb/s up: 132.5 kB/s peers: 92) downloading \n",
            "11.03% complete (down: 3658.8 kb/s up: 129.4 kB/s peers: 108) downloading \n",
            "11.37% complete (down: 3602.3 kb/s up: 125.0 kB/s peers: 108) downloading \n",
            "11.74% complete (down: 3837.2 kb/s up: 131.2 kB/s peers: 85) downloading \n",
            "12.14% complete (down: 4140.4 kb/s up: 140.2 kB/s peers: 96) downloading \n",
            "12.55% complete (down: 4322.0 kb/s up: 141.2 kB/s peers: 90) downloading \n",
            "12.97% complete (down: 4409.2 kb/s up: 142.5 kB/s peers: 70) downloading \n",
            "13.37% complete (down: 4327.7 kb/s up: 138.8 kB/s peers: 81) downloading \n",
            "13.79% complete (down: 4368.5 kb/s up: 145.8 kB/s peers: 75) downloading \n",
            "14.21% complete (down: 4408.0 kb/s up: 145.5 kB/s peers: 74) downloading \n",
            "14.66% complete (down: 4672.3 kb/s up: 152.4 kB/s peers: 82) downloading \n",
            "15.12% complete (down: 4815.5 kb/s up: 156.3 kB/s peers: 96) downloading \n",
            "15.57% complete (down: 4849.2 kb/s up: 156.8 kB/s peers: 113) downloading \n",
            "16.01% complete (down: 4717.1 kb/s up: 151.9 kB/s peers: 102) downloading \n",
            "16.46% complete (down: 4796.9 kb/s up: 153.8 kB/s peers: 97) downloading \n",
            "16.89% complete (down: 4597.9 kb/s up: 148.9 kB/s peers: 115) downloading \n",
            "17.30% complete (down: 4480.2 kb/s up: 148.9 kB/s peers: 136) downloading \n",
            "17.72% complete (down: 4425.8 kb/s up: 146.4 kB/s peers: 117) downloading \n",
            "18.11% complete (down: 4306.9 kb/s up: 144.9 kB/s peers: 129) downloading \n",
            "18.51% complete (down: 4285.9 kb/s up: 140.1 kB/s peers: 136) downloading \n",
            "18.91% complete (down: 4295.3 kb/s up: 141.2 kB/s peers: 110) downloading \n",
            "19.28% complete (down: 3966.5 kb/s up: 135.2 kB/s peers: 110) downloading \n",
            "19.65% complete (down: 4104.5 kb/s up: 147.8 kB/s peers: 108) downloading \n",
            "20.09% complete (down: 4477.0 kb/s up: 152.1 kB/s peers: 75) downloading \n",
            "20.54% complete (down: 4763.6 kb/s up: 156.7 kB/s peers: 78) downloading \n",
            "20.97% complete (down: 4669.0 kb/s up: 160.6 kB/s peers: 92) downloading \n",
            "21.43% complete (down: 4815.2 kb/s up: 161.4 kB/s peers: 108) downloading \n",
            "21.88% complete (down: 4840.5 kb/s up: 161.7 kB/s peers: 104) downloading \n",
            "22.32% complete (down: 4707.8 kb/s up: 157.1 kB/s peers: 116) downloading \n",
            "22.76% complete (down: 4668.3 kb/s up: 161.7 kB/s peers: 124) downloading \n",
            "23.22% complete (down: 4844.0 kb/s up: 165.1 kB/s peers: 122) downloading \n",
            "23.68% complete (down: 4903.2 kb/s up: 164.2 kB/s peers: 114) downloading \n",
            "24.14% complete (down: 4863.3 kb/s up: 162.4 kB/s peers: 133) downloading \n",
            "24.59% complete (down: 4830.0 kb/s up: 162.4 kB/s peers: 115) downloading \n",
            "25.02% complete (down: 4749.6 kb/s up: 159.2 kB/s peers: 94) downloading \n",
            "25.46% complete (down: 4563.5 kb/s up: 154.2 kB/s peers: 88) downloading \n",
            "25.89% complete (down: 4522.2 kb/s up: 150.6 kB/s peers: 87) downloading \n",
            "26.30% complete (down: 4473.5 kb/s up: 151.4 kB/s peers: 92) downloading \n",
            "26.74% complete (down: 4550.7 kb/s up: 155.9 kB/s peers: 79) downloading \n",
            "27.18% complete (down: 4661.5 kb/s up: 158.8 kB/s peers: 87) downloading \n",
            "27.55% complete (down: 4258.9 kb/s up: 152.6 kB/s peers: 97) downloading \n",
            "28.00% complete (down: 4651.9 kb/s up: 165.9 kB/s peers: 89) downloading \n",
            "28.52% complete (down: 5159.9 kb/s up: 175.0 kB/s peers: 85) downloading \n",
            "29.00% complete (down: 5233.8 kb/s up: 175.1 kB/s peers: 110) downloading \n",
            "29.44% complete (down: 4824.0 kb/s up: 159.4 kB/s peers: 121) downloading \n",
            "29.81% complete (down: 4283.9 kb/s up: 152.6 kB/s peers: 110) downloading \n",
            "30.18% complete (down: 4023.8 kb/s up: 146.8 kB/s peers: 112) downloading \n",
            "30.55% complete (down: 4022.2 kb/s up: 145.6 kB/s peers: 130) downloading \n",
            "30.93% complete (down: 3968.7 kb/s up: 142.3 kB/s peers: 120) downloading \n",
            "31.30% complete (down: 3939.2 kb/s up: 141.3 kB/s peers: 92) downloading \n",
            "31.74% complete (down: 4494.6 kb/s up: 156.4 kB/s peers: 92) downloading \n",
            "32.15% complete (down: 4424.6 kb/s up: 151.9 kB/s peers: 81) downloading \n",
            "32.55% complete (down: 4282.6 kb/s up: 147.5 kB/s peers: 84) downloading \n",
            "32.92% complete (down: 4128.3 kb/s up: 143.1 kB/s peers: 97) downloading \n",
            "33.32% complete (down: 4209.4 kb/s up: 146.0 kB/s peers: 105) downloading \n",
            "33.71% complete (down: 4250.6 kb/s up: 149.1 kB/s peers: 101) downloading \n",
            "34.09% complete (down: 4158.4 kb/s up: 143.5 kB/s peers: 117) downloading \n",
            "34.49% complete (down: 4185.5 kb/s up: 143.0 kB/s peers: 119) downloading \n",
            "34.90% complete (down: 4381.2 kb/s up: 147.8 kB/s peers: 113) downloading \n",
            "35.32% complete (down: 4455.4 kb/s up: 154.9 kB/s peers: 120) downloading \n",
            "35.71% complete (down: 4186.0 kb/s up: 147.5 kB/s peers: 114) downloading \n",
            "36.07% complete (down: 3854.3 kb/s up: 136.5 kB/s peers: 105) downloading \n",
            "36.41% complete (down: 3785.0 kb/s up: 139.3 kB/s peers: 109) downloading \n",
            "36.77% complete (down: 3759.6 kb/s up: 138.6 kB/s peers: 107) downloading \n",
            "37.16% complete (down: 4045.5 kb/s up: 139.5 kB/s peers: 85) downloading \n",
            "37.51% complete (down: 3871.3 kb/s up: 132.0 kB/s peers: 72) downloading \n"
          ]
        }
      ],
      "source": [
        "import libtorrent as lt\n",
        "import time\n",
        "import datetime\n",
        "\n",
        "def download_torrent():\n",
        "    ses = lt.session()\n",
        "    ses.listen_on(6881, 6891)\n",
        "    link = input(\"Input Torrent Link or Magnet and Press Enter: \")\n",
        "\n",
        "    handle = lt.add_magnet_uri(ses, link, params)\n",
        "    # change the 0 to a 1 to download sequential - this sequential option is only if you selected zip. If not,\n",
        "    # scroll farther down.magnet:?xt=urn:btih:975820F7E23422C89CF6089DF19CE84D9A36A4FC&dn=The+Umbrella+Academy+%282019%29+Season+01+S01+%281080p+NF+WEB-DL+x265+HEVC+10bit+AAC+5.1+Joy%29+%5BUTR%5D&tr=udp%3A%2F%[2Ftracker.opentrackr.org](http://2ftracker.opentrackr.org/)%3A1337%2Fannounce&tr=udp%3A%2F%[2F9.rarbg.com](http://2f9.rarbg.com/)%3A2710%2Fannounce&tr=udp%3A%2F%[2F9.rarbg.to](http://2f9.rarbg.to/)%3A2710%2Fannounce&tr=udp%3A%2F%[2Ftracker.torrent.eu.org](http://2ftracker.torrent.eu.org/)%3A451%2Fannounce&tr=udp%3A%2F%[2Ftracker.tiny-vps.com](http://2ftracker.tiny-vps.com/)%3A6969%2Fannounce&tr=udp%3A%2F%[2Fopen.demonii.si](http://2fopen.demonii.si/)%3A1337%2Fannounce&tr=udp%3A%2F%[2Fexodus.desync.com](http://2fexodus.desync.com/)%3A6969%2Fannounce&tr=udp%3A%2F%[2Ftracker.opentrackr.org](http://2ftracker.opentrackr.org/)%3A1337%2Fannounce&tr=http%3A%2F%[2Ftracker.openbittorrent.com](http://2ftracker.openbittorrent.com/)%3A80%2Fannounce&tr=udp%3A%2F%2Fopentracker.i2p.rocks%3A6969%2Fannounce&tr=udp%3A%2F%[2Ftracker.internetwarriors.net](http://2ftracker.internetwarriors.net/)%3A1337%2Fannounce&tr=udp%3A%2F%[2Ftracker.leechers-paradise.org](http://2ftracker.leechers-paradise.org/)%3A6969%2Fannounce&tr=udp%3A%2F%[2Fcoppersurfer.tk](http://2fcoppersurfer.tk/)%3A6969%2Fannounce&tr=udp%3A%2F%[2Ftracker.zer0day.to](http://2ftracker.zer0day.to/)%3A1337%2Fannounce\n",
        "    handle.set_sequential_download(0)\n",
        "\n",
        "    ses.start_dht()\n",
        "    begin = time.time()\n",
        "    print(datetime.datetime.now())\n",
        "\n",
        "    print('Downloading Metadata...')\n",
        "    while not handle.has_metadata():\n",
        "        time.sleep(1)\n",
        "    print('Got Metadata, Starting Torrent Download...')\n",
        "\n",
        "    print(\"Starting\", handle.name())\n",
        "\n",
        "    while handle.status().state != lt.torrent_status.seeding:\n",
        "        s = handle.status()\n",
        "        state_str = ['queued', 'checking', 'downloading metadata',\n",
        "                     'downloading', 'finished', 'seeding', 'allocating']\n",
        "        print('%.2f%% complete (down: %.1f kb/s up: %.1f kB/s peers: %d) %s ' % \\\n",
        "              (s.progress * 100, s.download_rate / 1000, s.upload_rate / 1000, \\\n",
        "               s.num_peers, state_str[s.state]))\n",
        "        time.sleep(5)\n",
        "\n",
        "    end = time.time()\n",
        "    print(handle.name(), \"COMPLETE\")\n",
        "\n",
        "    print(\"Elapsed Time: \", int((end - begin) // 60), \"min :\", int((end - begin) % 60), \"sec\")\n",
        "\n",
        "    print(datetime.datetime.now())\n",
        "\n",
        "\n",
        "zipp = input(\"Input 'Y'/'y' to zip the torrent and place it in your drive. Otherwise, leave blank. \")\n",
        "\n",
        "if zipp == 'Y' or zipp == 'y':\n",
        "    zip_name = input(\"Input name you would like for the zip file: \")\n",
        "    import shutil\n",
        "\n",
        "    params = {\n",
        "        'save_path': '/content/temp/',\n",
        "        'storage_mode': lt.storage_mode_t(2),\n",
        "    }\n",
        "    download_torrent()\n",
        "\n",
        "    print(\"now time to zip\")\n",
        "\n",
        "    print(\"Zipping ...\")\n",
        "    final_zip_directory = '/content/drive/Shareddrives/Drive/Torrent/' + zip_name\n",
        "    shutil.make_archive(final_zip_directory, 'zip', '/content/temp/')\n",
        "    shutil.rmtree('/content/temp/')\n",
        "\n",
        "else:\n",
        "    params = {\n",
        "        'save_path': '/content/drive/Shareddrives/Giant Panda/Books/',\n",
        "        'storage_mode': lt.storage_mode_t(2),\n",
        "    }\n",
        "    download_torrent()\n",
        "\n",
        "print('\\nALL DONE!')\n"
      ]
    },
    {
      "cell_type": "code",
      "execution_count": null,
      "metadata": {
        "colab": {
          "background_save": true,
          "base_uri": "https://localhost:8080/"
        },
        "id": "ZirMzWMepf05",
        "outputId": "6a5a1d81-b021-4dc8-d79d-e6e28c310a72"
      },
      "outputs": [
        {
          "name": "stdout",
          "output_type": "stream",
          "text": [
            "sending incremental file list\n",
            "./\n",
            "Drishyam 2 (2022) Hindi  x264 1080p HDTS Ads Free - QRips/\n",
            "Drishyam 2 (2022) Hindi  x264 1080p HDTS Ads Free - QRips/Drishyam 2 (2022) Hindi  x264 1080p HDTS Ads Free - QRips.mkv\n",
            "  2,498,938,298 100%  176.86MB/s    0:00:13 (xfr#1, to-chk=1/4)\n",
            "Drishyam 2 (2022) Hindi  x264 1080p HDTS Ads Free - QRips/Follow us.txt\n",
            "             30 100%    0.07kB/s    0:00:00 (xfr#2, to-chk=0/4)\n",
            "\n",
            "sent 2,499,548,780 bytes  received 65 bytes  135,110,748.38 bytes/sec\n",
            "total size is 2,498,938,328  speedup is 1.00\n"
          ]
        }
      ],
      "source": [
        "!rsync -avcP /content/temp/  /content/drive/Shareddrives/Drive/TV-Shows/"
      ]
    },
    {
      "cell_type": "code",
      "execution_count": null,
      "metadata": {
        "colab": {
          "background_save": true,
          "base_uri": "https://localhost:8080/",
          "height": 34
        },
        "id": "DV7p328wuxXU",
        "outputId": "9fd942e4-06d2-4dff-efa8-53f5a46dcb38"
      },
      "outputs": [
        {
          "data": {
            "application/javascript": [
              "\n",
              "    async function download(id, filename, size) {\n",
              "      if (!google.colab.kernel.accessAllowed) {\n",
              "        return;\n",
              "      }\n",
              "      const div = document.createElement('div');\n",
              "      const label = document.createElement('label');\n",
              "      label.textContent = `Downloading \"${filename}\": `;\n",
              "      div.appendChild(label);\n",
              "      const progress = document.createElement('progress');\n",
              "      progress.max = size;\n",
              "      div.appendChild(progress);\n",
              "      document.body.appendChild(div);\n",
              "\n",
              "      const buffers = [];\n",
              "      let downloaded = 0;\n",
              "\n",
              "      const channel = await google.colab.kernel.comms.open(id);\n",
              "      // Send a message to notify the kernel that we're ready.\n",
              "      channel.send({})\n",
              "\n",
              "      for await (const message of channel.messages) {\n",
              "        // Send a message to notify the kernel that we're ready.\n",
              "        channel.send({})\n",
              "        if (message.buffers) {\n",
              "          for (const buffer of message.buffers) {\n",
              "            buffers.push(buffer);\n",
              "            downloaded += buffer.byteLength;\n",
              "            progress.value = downloaded;\n",
              "          }\n",
              "        }\n",
              "      }\n",
              "      const blob = new Blob(buffers, {type: 'application/binary'});\n",
              "      const a = document.createElement('a');\n",
              "      a.href = window.URL.createObjectURL(blob);\n",
              "      a.download = filename;\n",
              "      div.appendChild(a);\n",
              "      a.click();\n",
              "      div.remove();\n",
              "    }\n",
              "  "
            ],
            "text/plain": [
              "<IPython.core.display.Javascript object>"
            ]
          },
          "metadata": {},
          "output_type": "display_data"
        },
        {
          "data": {
            "application/javascript": [
              "download(\"download_8fd88368-ec21-4efe-9efa-db15aa015f86\", \"Drishyam 2 (2022) Hindi  x264 1080p HDTS Ads Free - QRips.mkv\", 2498938298)"
            ],
            "text/plain": [
              "<IPython.core.display.Javascript object>"
            ]
          },
          "metadata": {},
          "output_type": "display_data"
        }
      ],
      "source": [
        "from google.colab import files\n",
        "files.download('/content/temp/Drishyam 2 (2022) Hindi  x264 1080p HDTS Ads Free - QRips/Drishyam 2 (2022) Hindi  x264 1080p HDTS Ads Free - QRips.mkv') "
      ]
    },
    {
      "cell_type": "code",
      "execution_count": null,
      "metadata": {
        "colab": {
          "background_save": true
        },
        "id": "dvOXiI5uwbEX"
      },
      "outputs": [],
      "source": [
        "!cp -r /content/temp/  '/content/drive/Shareddrives/Giant Panda/TV-Shows/'"
      ]
    }
  ],
  "metadata": {
    "accelerator": "GPU",
    "colab": {
      "provenance": [],
      "include_colab_link": true
    },
    "gpuClass": "standard",
    "kernelspec": {
      "display_name": "Python 3",
      "name": "python3"
    },
    "language_info": {
      "name": "python"
    }
  },
  "nbformat": 4,
  "nbformat_minor": 0
}